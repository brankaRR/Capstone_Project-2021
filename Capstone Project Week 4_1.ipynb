{
    "cells": [
        {
            "cell_type": "markdown",
            "metadata": {
                "collapsed": true
            },
            "source": "# Capstone Project - Battle Of Neighborhoods"
        },
        {
            "cell_type": "markdown",
            "metadata": {},
            "source": "## This is the capstone project for the IBM Data Science Professional Certificate\n### Open new Mexican Restaurant in London, United Kingdom"
        },
        {
            "cell_type": "markdown",
            "metadata": {},
            "source": "#### Introduction/Business Problem:"
        },
        {
            "cell_type": "code",
            "execution_count": 1,
            "metadata": {},
            "outputs": [],
            "source": "# 1. A description of the problem and a discussion of the background"
        },
        {
            "cell_type": "markdown",
            "metadata": {},
            "source": "London is the capital and largest city of England and the United Kingdom. It is the third-most populous in Europe. London has a diverse range of people and cultures, and more than 300 languages are spoken in the region.  It offers many business opportunities, like openning new restaurants so is competitive. Careful consideration of analysis for the business expansion is so much important as it is directly proportional to the cost of the business. The analysis from this report help for the new businesses strategically target the market and help in a high return on investment so is low risk. <br> Opening a new restaurant can be daunting. There are so many things to consider from choosing the right location to finding the financing to selecting the right name. As the location is one of the main factors in opening a new restaurant we will focus on the restaurant business around the London area in this report. The first step in opening a new restaurant is deciding what type of restaurant it is going to be? Is it a high-end fine dining restaurant or casual style dinner or a specific type of cuisine in mind such as French, Italian or Indian. Choosing a restaurant located in a busy area with plenty of foot traffic, or is there enough parking or are there any other restaurants opened or closed in the same spot?\nWe will focus on the types of different restaurants which are opened or closed in a particular place and then decide if it is a good place to open a new restaurant based on the popular cuisine around that place."
        },
        {
            "cell_type": "code",
            "execution_count": 2,
            "metadata": {},
            "outputs": [],
            "source": "# 2. A description of the data and how it will be used to solve the problem"
        },
        {
            "cell_type": "markdown",
            "metadata": {},
            "source": "#### Target Audience:"
        },
        {
            "cell_type": "markdown",
            "metadata": {},
            "source": "The objective of my project is to recommend which neighborhood of London is a good choice for a new Mexican Restaurant business to open."
        },
        {
            "cell_type": "markdown",
            "metadata": {},
            "source": "#### Methodology - How will I use the data to solve the described Business Problem:"
        },
        {
            "cell_type": "markdown",
            "metadata": {},
            "source": "- I will convert address data into their equivalent latitude and longitude values.\n- For London neighborhood data, I will use the resource from wikipedia page , https://en.wikipedia.org/wiki/List_of_areas_of_London\n- Use the Foursquare API to explore London neighborhoods and to get venues in neighborhoods.\n- Use the Foursquare API to get venue ratings and likes in neighborhoods.\n- Use the k-means clustering to complete clustering task\n- Use the Folium library to visualize the neighborhoods, venues , clusters in London"
        },
        {
            "cell_type": "code",
            "execution_count": null,
            "metadata": {},
            "outputs": [],
            "source": ""
        }
    ],
    "metadata": {
        "kernelspec": {
            "display_name": "Python 3.7",
            "language": "python",
            "name": "python3"
        },
        "language_info": {
            "codemirror_mode": {
                "name": "ipython",
                "version": 3
            },
            "file_extension": ".py",
            "mimetype": "text/x-python",
            "name": "python",
            "nbconvert_exporter": "python",
            "pygments_lexer": "ipython3",
            "version": "3.7.10"
        }
    },
    "nbformat": 4,
    "nbformat_minor": 1
}